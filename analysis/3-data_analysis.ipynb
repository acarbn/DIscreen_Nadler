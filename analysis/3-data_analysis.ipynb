{
 "cells": [
  {
   "attachments": {},
   "cell_type": "markdown",
   "metadata": {},
   "source": [
    "\n",
    "# Pairwise correlations between all positional features and experimental enrichment scores"
   ]
  },
  {
   "cell_type": "code",
   "execution_count": null,
   "metadata": {},
   "outputs": [],
   "source": [
    "#import packages\n",
    "from Bio import SeqIO\n",
    "import numpy as np\n",
    "import pickle\n",
    "import seaborn as sns \n",
    "import matplotlib.pyplot as plt\n",
    "from utils.plotting import *\n",
    "from utils.processing import *\n",
    "\n",
    "# set styles\n",
    "plt.style.use('./utils/domain_ins.mplstyle')\n",
    "plt.rcParams['svg.fonttype'] = 'none'"
   ]
  },
  {
   "attachments": {},
   "cell_type": "markdown",
   "metadata": {},
   "source": [
    "### Import data\n",
    "* requires datasets from notebook #2"
   ]
  },
  {
   "cell_type": "code",
   "execution_count": null,
   "metadata": {},
   "outputs": [],
   "source": [
    "# define dirs\n",
    "base = '/mnt/disk1/jan/DI_screen'\n",
    "in_folder = f'{base}/analysis/input_data'\n",
    "data_folder = f'{base}/analysis/output_datasets'\n",
    "fig_folder = f'{base}/analysis/figures'\n",
    "fasta_sequences = {rec.id : rec.seq for rec in SeqIO.parse(f'{in_folder}/proteins.fasta', 'fasta')}\n",
    "\n",
    "# import data\n",
    "with open(f'{data_folder}/proteins_training.pickle', 'rb') as input:\n",
    "    full_dataset = pickle.load(input)\n",
    "input.close()\n",
    "\n",
    "with open(f'{data_folder}/analysis_dict.pickle', 'rb') as input:\n",
    "    analysis_dict = pickle.load(input)\n",
    "input.close()\n",
    "\n",
    "\n",
    "#create uniprot dict\n",
    "uniprot_dict = {'AraC':'AraC', 'TVMV':'TVMV', 'T7':'WP_001092355.1', 'Flp':'Flp', 'SigF':'SigF'}"
   ]
  },
  {
   "attachments": {},
   "cell_type": "markdown",
   "metadata": {},
   "source": [
    "### Calculate correlations"
   ]
  },
  {
   "cell_type": "code",
   "execution_count": null,
   "metadata": {},
   "outputs": [],
   "source": [
    "for name, radius_dict in full_dataset.items():\n",
    "    for name, df in radius_dict.items():\n",
    "        df.dropna(inplace=True)\n",
    "\n",
    "pairwise_correlation(full_dataset['AraC']['2'], 'AraC', fig_folder, method='spearman')"
   ]
  },
  {
   "cell_type": "code",
   "execution_count": null,
   "metadata": {},
   "outputs": [],
   "source": [
    "for insert in ['LOV', 'UniRapR', 'eYFP', 'ERD']:\n",
    "    full_dataset[f'AraC_{insert}'] = {}\n",
    "    full_dataset[f'AraC_{insert}']['2'] = full_dataset[f'AraC']['2'].copy()\n",
    "    enrichments = (analysis_dict[f'AraC_{insert}']['12']['log'] + analysis_dict[f'AraC_{insert}']['22']['log'])/2\n",
    "    full_dataset[f'AraC_{insert}']['2']['log'] = enrichments.reset_index(drop=True)"
   ]
  },
  {
   "cell_type": "code",
   "execution_count": null,
   "metadata": {},
   "outputs": [],
   "source": [
    "# define subplot grid\n",
    "fig, axs = plt.subplots(nrows=8, ncols=1, figsize=(15, 8), gridspec_kw={'height_ratios': [1, 1, 1, 1, 1, 1, 1, 6.66]})\n",
    "plt.subplots_adjust(hspace=0, top=.9, bottom=0)\n",
    "fig.suptitle(\"Correlation between enrichments and protein properties\", fontsize=18, y=0.95)\n",
    "\n",
    "variants = ['AraC_LOV', 'AraC_UniRapR', 'AraC_eYFP', 'AraC_ERD', 'AraC', 'Flp', 'SigF', 'TVMV']\n",
    "plots = range(len(variants))\n",
    "names = ['AraC-LOV', 'AraC-uniRapR', 'AraC-YFP', 'AraC-ERD', 'AraC-PDZ', 'Flp-PDZ', 'SigF-PDZ', 'TVMV-PDZ']\n",
    "\n",
    "for variant, ax, number, name in zip(variants, axs.ravel(), plots, names):\n",
    "    data = full_dataset[variant]['2'].corr(method='spearman').iloc[0,1:]\n",
    "    data_array = np.array(data).reshape(1,len(data))\n",
    "    print(np.min(data_array), np.max(data_array))\n",
    "    if number == 7:\n",
    "        sns.heatmap(data=data_array, cmap=map, cbar_kws={'label': f\"Spearman's r\", 'shrink':.3, 'orientation':'horizontal', 'pad':0.7}, square=True, vmin=-.6, vmax=.6, ax=ax)\n",
    "        for _, spine in ax.spines.items():\n",
    "            spine.set_visible(True)\n",
    "            spine.set_linewidth(2)\n",
    "        ax.yaxis.set_tick_params(width=2)\n",
    "        ax.xaxis.set_tick_params(width=2)\n",
    "        data.index = data.index.str.replace('_',' ')\n",
    "        ax.set_xticklabels(data.index, rotation=90, fontsize=14)\n",
    "        ax.set_yticklabels([name], rotation=0, fontsize=14)\n",
    "    else:\n",
    "        sns.heatmap(data=data_array, cmap=map, cbar=False, square=True, vmin=-.6, vmax=.6, ax=ax)\n",
    "        for _, spine in ax.spines.items():\n",
    "            spine.set_visible(True)\n",
    "            spine.set_linewidth(2)\n",
    "        \n",
    "        ax.xaxis.set_tick_params(width=0)\n",
    "        ax.yaxis.set_tick_params(width=2)\n",
    "        ax.set_xticklabels([])\n",
    "        ax.set_yticklabels([name], rotation=0, fontsize=14)\n",
    "plt.savefig(f\"{fig_folder}/feature_correlation_main.svg\", bbox_inches=\"tight\")\n",
    "plt.show()\n",
    "\n"
   ]
  },
  {
   "cell_type": "code",
   "execution_count": null,
   "metadata": {},
   "outputs": [],
   "source": [
    "#import property dict\n",
    "with open(f'{data_folder}/proteins_training.pickle', 'rb') as input:\n",
    "    full_dataset = pickle.load(input)\n",
    "input.close()\n",
    "\n",
    "for key, item in full_dataset.items():\n",
    "    sequence = [x for x in fasta_sequences[f\"{key.split('_')[0]}_s\"]]\n",
    "    value = full_dataset[key]['2']['log'].copy()\n",
    "    plt.figure(figsize=(8,4))\n",
    "    AA_order = ['A','I','L','M','F','W','Y','V','S','T','N','Q','R','H','K','D','E','C','G','P']\n",
    "    color_palette = ['#174950','#174950','#174950','#174950','#174950','#174950','#174950','#174950','#00B8B8','#00B8B8','#00B8B8','#00B8B8',\n",
    "                    '#7582FF','#7582FF','#7582FF','#E60234','#E60234','#87001D','#87001D','#87001D','#87001D']\n",
    "    ax = sns.boxplot(x=sequence, y=value, linewidth=2, order = AA_order, palette = color_palette, width=.8, showfliers = False)\n",
    "    for _, spine in ax.spines.items():\n",
    "        spine.set_visible(True)\n",
    "        spine.set_linewidth(2)\n",
    "    ax.yaxis.set_tick_params(width=2)\n",
    "    ax.xaxis.set_tick_params(width=2)\n",
    "    ax.set_xlim(-.5)\n",
    "    plt.ylabel(\"Log2 variant enrichment\")\n",
    "    sns.despine()\n",
    "    plt.title(f\"{key.split('_')[0]}: AA preferences for enrichments\")\n",
    "    plt.savefig(f\"{fig_folder}/correlation_AA_{key}.svg\", bbox_inches=\"tight\")"
   ]
  }
 ],
 "metadata": {
  "kernelspec": {
   "display_name": "Python 3.7.12 ('dipseq')",
   "language": "python",
   "name": "python3"
  },
  "language_info": {
   "codemirror_mode": {
    "name": "ipython",
    "version": 3
   },
   "file_extension": ".py",
   "mimetype": "text/x-python",
   "name": "python",
   "nbconvert_exporter": "python",
   "pygments_lexer": "ipython3",
   "version": "3.7.12"
  },
  "orig_nbformat": 4,
  "vscode": {
   "interpreter": {
    "hash": "039b150e2a501b43cb42c0bb6f96961eb02ac0d168d7989199fe3219f1545794"
   }
  }
 },
 "nbformat": 4,
 "nbformat_minor": 2
}
