{
 "cells": [
  {
   "attachments": {},
   "cell_type": "markdown",
   "metadata": {},
   "source": [
    "# Comparison between the enrichment scores and experimental evaluation of individual variants"
   ]
  },
  {
   "cell_type": "code",
   "execution_count": null,
   "metadata": {},
   "outputs": [],
   "source": [
    "import numpy as np\n",
    "import pandas as pd\n",
    "import matplotlib.pyplot as plt\n",
    "import seaborn as sns\n",
    "from matplotlib.ticker import FormatStrFormatter\n",
    "import scipy\n",
    "\n",
    "plt.style.use('/mnt/disk2/lichtenberg/jm/domain_insertion/dipSeq/batch_scripts_JMA/scripts_paper/utils/domain_ins.mplstyle')\n",
    "plt.rcParams['svg.fonttype'] = 'none'"
   ]
  },
  {
   "attachments": {},
   "cell_type": "markdown",
   "metadata": {},
   "source": [
    "### Import data"
   ]
  },
  {
   "cell_type": "code",
   "execution_count": null,
   "metadata": {},
   "outputs": [],
   "source": [
    "base = '/mnt/disk1/jan/DI_screen'\n",
    "fig_folder = f'{base}/analysis/figures'\n",
    "data = pd.read_csv(f'{base}/experimental_rawdata/Wetlab_validation_switches.csv', delimiter=';')\n",
    "del data['Unnamed: 3']"
   ]
  },
  {
   "cell_type": "code",
   "execution_count": null,
   "metadata": {},
   "outputs": [],
   "source": [
    "data[['protein', 'position', 'insert']] = data['name'].str.split('_', expand=True)\n",
    "data['state'] = np.where(data['enrichment'] > 0, 1, 0)\n",
    "data.dropna(inplace=True)\n",
    "data"
   ]
  },
  {
   "cell_type": "code",
   "execution_count": null,
   "metadata": {},
   "outputs": [],
   "source": [
    "datasets = [['AraC', 'PDZ'], ['AraC', 'LOV'], ['AraC', 'ERD'], ['AraC', 'UNI'], ['AraC', 'YFP'], ['TVMV', 'PDZ'], ['Flp', 'PDZ']]\n",
    "\n",
    "for combi in datasets:\n",
    "    try:\n",
    "        current_data = data[(data['protein'] == combi[0]) & (data['insert'] == combi[1])]\n",
    "        s, pvalue = scipy.stats.mannwhitneyu(current_data[current_data[\"state\"] == 0]['fluorescence'], current_data[current_data[\"state\"] == 1]['fluorescence'])\n",
    "        print(pvalue)\n",
    "        plt.figure(figsize=(2.5,4))\n",
    "        ax = sns.boxplot(data=current_data, x='state', y='fluorescence', fliersize=0, linewidth=1.5, whiskerprops={'color':'grey'}, \n",
    "        capprops={'color':'grey'}, boxprops={'color':'white', 'linewidth':1.5, 'edgecolor':'grey'}, medianprops={'color':'#E60234'})\n",
    "        ax = sns.stripplot(data=current_data, x='state', y='fluorescence', alpha=1, linewidth=0, color='black')\n",
    "        sns.despine()\n",
    "        ax.set_yscale('log')\n",
    "        plt.title(f'{combi[0]}-{combi[1]}')\n",
    "        plt.ylabel('RFP/OD600 [a.u.]')\n",
    "        plt.xticks([0,1], ['Depleted', 'Enriched'])\n",
    "        if combi[0] == 'TVMV':\n",
    "            ax.yaxis.set_minor_formatter(FormatStrFormatter(\"%.1f\"))\n",
    "        plt.xlabel(\"\")\n",
    "        plt.savefig(f\"{fig_folder}/{combi[0]}{combi[1]}_wetlab.svg\")\n",
    "\n",
    "    except:\n",
    "        pass"
   ]
  }
 ],
 "metadata": {
  "interpreter": {
   "hash": "039b150e2a501b43cb42c0bb6f96961eb02ac0d168d7989199fe3219f1545794"
  },
  "kernelspec": {
   "display_name": "Python 3.7.12 ('dipseq')",
   "language": "python",
   "name": "python3"
  },
  "language_info": {
   "codemirror_mode": {
    "name": "ipython",
    "version": 3
   },
   "file_extension": ".py",
   "mimetype": "text/x-python",
   "name": "python",
   "nbconvert_exporter": "python",
   "pygments_lexer": "ipython3",
   "version": "3.7.12"
  },
  "orig_nbformat": 4
 },
 "nbformat": 4,
 "nbformat_minor": 2
}
